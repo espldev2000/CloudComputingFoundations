{
  "nbformat": 4,
  "nbformat_minor": 0,
  "metadata": {
    "colab": {
      "name": "Cloud Computing Foundations.ipynb",
      "provenance": [],
      "authorship_tag": "ABX9TyMJciR3KuGMfccYyu/FcjB5",
      "include_colab_link": true
    },
    "kernelspec": {
      "name": "python3",
      "display_name": "Python 3"
    },
    "language_info": {
      "name": "python"
    }
  },
  "cells": [
    {
      "cell_type": "markdown",
      "metadata": {
        "id": "view-in-github",
        "colab_type": "text"
      },
      "source": [
        "<a href=\"https://colab.research.google.com/github/espldev2000/CloudComputingFoundations/blob/main/Cloud_Computing_Foundations.ipynb\" target=\"_parent\"><img src=\"https://colab.research.google.com/assets/colab-badge.svg\" alt=\"Open In Colab\"/></a>"
      ]
    },
    {
      "cell_type": "code",
      "source": [
        "print(\"hello world\")"
      ],
      "metadata": {
        "colab": {
          "base_uri": "https://localhost:8080/"
        },
        "id": "6Lks1jpnZCch",
        "outputId": "430f2711-80bc-4b6a-8434-3dbd33424e74"
      },
      "execution_count": 1,
      "outputs": [
        {
          "output_type": "stream",
          "name": "stdout",
          "text": [
            "hello world\n"
          ]
        }
      ]
    },
    {
      "cell_type": "markdown",
      "source": [
        "# Title\n",
        "Not title\n"
      ],
      "metadata": {
        "id": "ysMrQzmLZG9o"
      }
    }
  ]
}